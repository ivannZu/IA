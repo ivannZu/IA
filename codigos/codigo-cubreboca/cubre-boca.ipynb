{
 "cells": [
  {
   "cell_type": "code",
   "execution_count": 2,
   "id": "d7b29e4e-144a-42ee-ba52-48bf4167bbb4",
   "metadata": {},
   "outputs": [],
   "source": [
    "import cv2\n",
    "\n",
    "# Cargar los clasificadores en cascada\n",
    "maskl_classifier = cv2.CascadeClassifier('cascade.xml')\n",
    "mask_classifier = cv2.CascadeClassifier('cascade.xml')  \n",
    "\n",
    "# Iniciar la captura de video\n",
    "cap = cv2.VideoCapture(0)\n",
    "\n",
    "while True:\n",
    "    ret, frame = cap.read()\n",
    "    if not ret:\n",
    "        break\n",
    "\n",
    "    gray = cv2.cvtColor(frame, cv2.COLOR_BGR2GRAY)\n",
    "\n",
    "    # Detectar rostros en la imagen\n",
    "    faces = maskl_classifier.detectMultiScale(gray, 1.1, 6)\n",
    "\n",
    "    for (x, y, w, h) in faces:\n",
    "        # Recortar la región del rostro\n",
    "        face_region = gray[y:y+h, x:x+w]\n",
    "\n",
    "        # Detectar cubrebocas en la región del rostro\n",
    "        masks = mask_classifier.detectMultiScale(face_region, 1.1, 6)\n",
    "\n",
    "        # Dibujar un rectángulo solo si se detecta un cubrebocas\n",
    "        if len(masks) > 0:\n",
    "            cv2.rectangle(frame, (x, y), (x+w, y+h), (0, 255, 0), 2)\n",
    "\n",
    "    cv2.imshow('Video', frame)\n",
    "\n",
    "    if cv2.waitKey(1) & 0xFF == ord('q'):\n",
    "        break\n",
    "\n",
    "cap.release()\n",
    "cv2.destroyAllWindows()\n",
    "\n",
    "\n",
    "\n",
    "\n",
    "\n",
    "\n",
    "\n"
   ]
  },
  {
   "cell_type": "code",
   "execution_count": null,
   "id": "2c13f0cf-faa4-45ae-833d-de2732dc6058",
   "metadata": {},
   "outputs": [],
   "source": []
  },
  {
   "cell_type": "code",
   "execution_count": null,
   "id": "79a1f766-f3db-493d-b562-596b79c1ae9d",
   "metadata": {},
   "outputs": [],
   "source": []
  },
  {
   "cell_type": "code",
   "execution_count": null,
   "id": "f5e4247b-0b0d-4c31-8888-22eabdaa027d",
   "metadata": {},
   "outputs": [],
   "source": []
  },
  {
   "cell_type": "code",
   "execution_count": null,
   "id": "35a696d7-45e9-47e9-aba8-fb58f4518f15",
   "metadata": {},
   "outputs": [],
   "source": []
  }
 ],
 "metadata": {
  "kernelspec": {
   "display_name": "Python 3 (ipykernel)",
   "language": "python",
   "name": "python3"
  },
  "language_info": {
   "codemirror_mode": {
    "name": "ipython",
    "version": 3
   },
   "file_extension": ".py",
   "mimetype": "text/x-python",
   "name": "python",
   "nbconvert_exporter": "python",
   "pygments_lexer": "ipython3",
   "version": "3.10.11"
  }
 },
 "nbformat": 4,
 "nbformat_minor": 5
}
