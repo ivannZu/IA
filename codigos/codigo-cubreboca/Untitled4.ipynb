{
 "cells": [
  {
   "cell_type": "code",
   "execution_count": 8,
   "id": "d7b29e4e-144a-42ee-ba52-48bf4167bbb4",
   "metadata": {},
   "outputs": [],
   "source": [
    "import cv2\n",
    "import os\n",
    "\n",
    "\n",
    "if not os.path.isfile(rostro_clasificador_ruta):\n",
    "    print(\"Archivo del clasificador de rostros no encontrado\")\n",
    "    exit()\n",
    "\n",
    "rostro_clasificador = cv2.CascadeClassifier(rostro_clasificador_ruta)\n",
    "cubrebocas_clasificador = cv2.CascadeClassifier('final.xml')\n",
    "\n",
    "# Iniciar la captura de video desde la cámara web\n",
    "cap = cv2.VideoCapture(0)\n",
    "\n",
    "while True:\n",
    "    # Capturar frame por frame\n",
    "    ret, frame = cap.read()\n",
    "    if not ret:\n",
    "        break\n",
    "\n",
    "    \n",
    "\n",
    "    # Convertir a escala de grises\n",
    "    gris = cv2.cvtColor(frame, cv2.COLOR_BGR2GRAY)\n",
    "\n",
    "    # Detectar rostros\n",
    "    rostros = rostro_clasificador.detectMultiScale(gris, scaleFactor=1.1, minNeighbors=5, minSize=(30, 30))\n",
    "\n",
    "    # Para cada rostro detectado, verificar si lleva cubrebocas\n",
    "    for (x, y, w, h) in rostros:\n",
    "        roi_gris = gris[y:y+h, x:x+w]\n",
    "        cubrebocas = cubrebocas_clasificador.detectMultiScale(roi_gris)\n",
    "\n",
    "        # Dibujar recuadro solo si se detecta un cubrebocas en el rostro\n",
    "        if len(cubrebocas) > 0:\n",
    "            cv2.rectangle(frame, (x, y), (x+w, y+h), (0, 255, 0), 2)\n",
    "\n",
    "    # Mostrar el frame resultante\n",
    "    cv2.imshow('Detector de Cubrebocas', frame)\n",
    "\n",
    "    # Romper el bucle si se presiona la tecla ESC\n",
    "    if cv2.waitKey(1) & 0xFF == 27:  # 27 es el código ASCII para ESC\n",
    "        break\n",
    "\n",
    "# Liberar la captura cuando todo esté hecho\n",
    "cap.release()\n",
    "cv2.destroyAllWindows()\n",
    "\n",
    "\n",
    "\n",
    "\n",
    "\n",
    "\n",
    "\n"
   ]
  },
  {
   "cell_type": "code",
   "execution_count": null,
   "id": "2c13f0cf-faa4-45ae-833d-de2732dc6058",
   "metadata": {},
   "outputs": [],
   "source": []
  },
  {
   "cell_type": "code",
   "execution_count": null,
   "id": "79a1f766-f3db-493d-b562-596b79c1ae9d",
   "metadata": {},
   "outputs": [],
   "source": []
  },
  {
   "cell_type": "code",
   "execution_count": null,
   "id": "f5e4247b-0b0d-4c31-8888-22eabdaa027d",
   "metadata": {},
   "outputs": [],
   "source": []
  },
  {
   "cell_type": "code",
   "execution_count": null,
   "id": "35a696d7-45e9-47e9-aba8-fb58f4518f15",
   "metadata": {},
   "outputs": [],
   "source": []
  }
 ],
 "metadata": {
  "kernelspec": {
   "display_name": "Python 3 (ipykernel)",
   "language": "python",
   "name": "python3"
  },
  "language_info": {
   "codemirror_mode": {
    "name": "ipython",
    "version": 3
   },
   "file_extension": ".py",
   "mimetype": "text/x-python",
   "name": "python",
   "nbconvert_exporter": "python",
   "pygments_lexer": "ipython3",
   "version": "3.10.11"
  }
 },
 "nbformat": 4,
 "nbformat_minor": 5
}
